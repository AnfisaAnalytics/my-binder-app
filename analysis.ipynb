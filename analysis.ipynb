{
 "cells": [
  {
   "cell_type": "code",
   "execution_count": null,
   "metadata": {},
   "outputs": [],
   "source": [
    "import pandas as pd\n",
    "import matplotlib.pyplot as plt\n",
    "import ipywidgets as widgets\n",
    "from IPython.display import display, HTML\n",
    "\n",
    "# Загрузка данных\n",
    "data = pd.read_csv('data.csv')\n",
    "\n",
    "# Функция для отображения графика\n",
    "def plot_data():\n",
    "    plt.figure(figsize=(10, 5))\n",
    "    plt.bar(data['Name'], data['Value'], color='skyblue')\n",
    "    plt.title('Bar Chart of Values')\n",
    "    plt.xlabel('Name')\n",
    "    plt.ylabel('Value')\n",
    "    plt.grid(axis='y')\n",
    "    plt.savefig('chart.png')\n",
    "    plt.show()\n",
    "\n",
    "# Кнопка для генерации графика\n",
    "button = widgets.Button(description='Показать график')\n",
    "display(button)\n",
    "\n",
    "def on_button_clicked(b):\n",
    "    plot_data()\n",
    "    display(HTML('График сохранён как <a href=\"chart.png\" download>chart.png</a>'))\n",
    "\n",
    "button.on_click(on_button_clicked)\n"
   ]
  }
 ],
 "metadata": {
  "kernelspec": {
   "display_name": "Python 3",
   "language": "python",
   "name": "python3"
  },
  "language_info": {
   "codemirror_mode": {
    "name": "ipython",
    "version": 3
   },
   "file_extension": ".py",
   "mimetype": "text/x-python",
   "name": "python",
   "nbconvert_exporter": "python",
   "pygments_lexer": "ipython3",
   "version": "3.8.5"
  }
 },
 "nbformat": 4,
 "nbformat_minor": 4
}